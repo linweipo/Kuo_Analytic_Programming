{
 "cells": [
  {
   "cell_type": "markdown",
   "metadata": {
    "deletable": false,
    "editable": false
   },
   "source": [
    "## Analytic Programming\n",
    "\n",
    "> Homework 1: Analytic Programming, NTU, Spring, 2021.\n",
    "\n",
    "Kuo, Yao-Jen <yaojenkuo@ntu.edu.tw> from [DATAINPOINT](https://www.datainpoint.com)"
   ]
  },
  {
   "cell_type": "markdown",
   "metadata": {},
   "source": [
    "## Define a function named `calculate_movie_minutes(hours, mins)` which returns the time of a movie in minutes from hours and minutes\n",
    "\n",
    "- Expected inputs：2 numerics `hours` and `mins`\n",
    "- Expected outputs：a numeric"
   ]
  },
  {
   "cell_type": "code",
   "execution_count": 234,
   "metadata": {},
   "outputs": [],
   "source": [
    "def calculate_movie_minutes(hours, mins):\n",
    "    \"\"\"\n",
    "    >>> calculate_movie_minutes(3, 1)  # Avengers: Endgame\n",
    "    181\n",
    "    >>> calculate_movie_minutes(2, 29) # Avengers: Infinity War\n",
    "    149\n",
    "    >>> calculate_movie_minutes(2, 21) # Avengers: Age of Ultron\n",
    "    141\n",
    "    >>> calculate_movie_minutes(2, 23) # The Avengers\n",
    "    143\n",
    "    \"\"\"\n",
    "    ### BEGIN SOLUTION\n",
    "    \n",
    "    mins = hours * 60 + mins\n",
    "    return mins\n",
    "    \n",
    "    ### END SOLUTION"
   ]
  },
  {
   "cell_type": "markdown",
   "metadata": {},
   "source": [
    "## Define a function named `fahrenheit_to_celsius(degree)` which converts Fahrenheit degrees to Celsius degrees\n",
    "\n",
    "\\begin{equation}\n",
    "Celsius^{\\circ} C = (Fahrenheit^{\\circ} F - 32) \\times \\frac{5}{9}\n",
    "\\end{equation}\n",
    "\n",
    "- Expected inputs：a numeric `degree`\n",
    "- Expected outputs：a numeric"
   ]
  },
  {
   "cell_type": "code",
   "execution_count": 235,
   "metadata": {},
   "outputs": [],
   "source": [
    "def fahrenheit_to_celsius(degree):\n",
    "    \"\"\"\n",
    "    >>> fahrenheit_to_celsius(212)\n",
    "    100.0\n",
    "    >>> fahrenheit_to_celsius(32)\n",
    "    0.0\n",
    "    \"\"\"\n",
    "    ### BEGIN SOLUTION\n",
    "    \n",
    "    deg = (degree - 32)*5/9\n",
    "    return deg\n",
    "    \n",
    "    ### END SOLUTION"
   ]
  },
  {
   "cell_type": "markdown",
   "metadata": {},
   "source": [
    "## Define a function named `calculate_bmi(height, weight)` which calculates BMI according to heights in meters and weights in kilograms\n",
    "\n",
    "\\begin{equation}\n",
    "BMI = \\frac{weight_{kg}}{height_{m}^2}\n",
    "\\end{equation}\n",
    "\n",
    "- Expected inputs：2 numerics `height` and `weight`\n",
    "- Expected outputs：a numeric"
   ]
  },
  {
   "cell_type": "code",
   "execution_count": 236,
   "metadata": {},
   "outputs": [],
   "source": [
    "def calculate_bmi(height, weight):\n",
    "    \"\"\"\n",
    "    >>> calculate_bmi(216, 147) # Shaquille O'Neal in his prime\n",
    "    31.507201646090532\n",
    "    >>> calculate_bmi(198, 129) # Zion Williamson \n",
    "    32.90480563207836\n",
    "    >>> calculate_bmi(206, 113) # LeBron James\n",
    "    26.628334433028563\n",
    "    >>> calculate_bmi(211, 110) # Giannis Antetokounmpo\n",
    "    24.70744143213315\n",
    "    >>> calculate_bmi(231, 91)  # Manute Bol\n",
    "    17.05365341728978\n",
    "    \"\"\"\n",
    "    ### BEGIN SOLUTION\n",
    "    \n",
    "    BMI = weight / (height**2) *10000\n",
    "    return BMI\n",
    "    \n",
    "    \n",
    "    ### END SOLUTION"
   ]
  },
  {
   "cell_type": "markdown",
   "metadata": {},
   "source": [
    "## Define a function named `is_positive(x)` which returns whether x is a positive integer or not\n",
    "\n",
    "- Expected inputs：an integer `x`\n",
    "- Expected outputs：a bool"
   ]
  },
  {
   "cell_type": "code",
   "execution_count": 237,
   "metadata": {},
   "outputs": [],
   "source": [
    "def is_positive(x):\n",
    "    \"\"\"\n",
    "    >>> is_positive(5566)\n",
    "    True\n",
    "    >>> is_positive(-5566)\n",
    "    False\n",
    "    >>> is_positive(0)\n",
    "    True\n",
    "    \"\"\"\n",
    "    ### BEGIN SOLUTION\n",
    "    \n",
    "    if x < 0 :\n",
    "        return False\n",
    "    else:\n",
    "        return True\n",
    "    \n",
    "    \n",
    "    ### END SOLUTION"
   ]
  },
  {
   "cell_type": "markdown",
   "metadata": {},
   "source": [
    "## Define a function named `is_odd(x)` which returns whether x is an odd or not\n",
    "\n",
    "- Expected inputs：an integer `x`\n",
    "- Expected outputs：a bool"
   ]
  },
  {
   "cell_type": "code",
   "execution_count": 238,
   "metadata": {},
   "outputs": [],
   "source": [
    "def is_odd(x):\n",
    "    \"\"\"\n",
    "    >>> is_odd(0)\n",
    "    False\n",
    "    >>> is_odd(1)\n",
    "    True\n",
    "    >>> is_odd(2)\n",
    "    False\n",
    "    >>> is_odd(3)\n",
    "    True\n",
    "    \"\"\"\n",
    "    ### BEGIN SOLUTION\n",
    "    \n",
    "    if x%2 == 0:\n",
    "        return False\n",
    "    \n",
    "    else:\n",
    "        return True\n",
    "    \n",
    "    ### END SOLUTION"
   ]
  },
  {
   "cell_type": "markdown",
   "metadata": {},
   "source": [
    "## Define a function named `is_a_factor(x, y)` which returns whether x is a factor of y or not\n",
    "\n",
    "- Expected inputs：2 integers `x` and `y`\n",
    "- Expected outputs：a bool"
   ]
  },
  {
   "cell_type": "code",
   "execution_count": 239,
   "metadata": {},
   "outputs": [],
   "source": [
    "def is_a_factor(x, y):\n",
    "    \"\"\"\n",
    "    >>> is_a_factor(1, 3)\n",
    "    True\n",
    "    >>> is_a_factor(2, 3)\n",
    "    False\n",
    "    >>> is_a_factor(3, 3)\n",
    "    True\n",
    "    >>> is_a_factor(1, 4)\n",
    "    True\n",
    "    >>> is_a_factor(2, 4)\n",
    "    True\n",
    "    >>> is_a_factor(3, 4)\n",
    "    False\n",
    "    >>> is_a_factor(4, 4)\n",
    "    True\n",
    "    \"\"\"\n",
    "    ### BEGIN SOLUTION\n",
    "    \n",
    "    if y % x ==0:\n",
    "        return True\n",
    "    \n",
    "    else:\n",
    "        return False\n",
    "    \n",
    "    ### END SOLUTION"
   ]
  },
  {
   "cell_type": "markdown",
   "metadata": {},
   "source": [
    "## Define a function named `is_a_none(x)` which returns whether x is a `NoneType` or not\n",
    "\n",
    "- Expected inputs：a `x` with unknown type\n",
    "- Expected outputs：a bool"
   ]
  },
  {
   "cell_type": "code",
   "execution_count": 240,
   "metadata": {},
   "outputs": [],
   "source": [
    "def is_a_none(x):\n",
    "    \"\"\"\n",
    "    >>> is_a_none('None')\n",
    "    False\n",
    "    >>> is_a_none('')\n",
    "    False\n",
    "    >>> is_a_none(0)\n",
    "    False\n",
    "    >>> is_a_none(False)\n",
    "    False\n",
    "    >>> is_a_none(None)\n",
    "    True\n",
    "    \"\"\"\n",
    "    ### BEGIN SOLUTION\n",
    "    \n",
    "    if x == None:\n",
    "        return True\n",
    "    \n",
    "    else:\n",
    "        return False\n",
    "    \n",
    "    ### END SOLUTION"
   ]
  },
  {
   "cell_type": "markdown",
   "metadata": {},
   "source": [
    "## Define a function named `is_a_bool(x)` which returns whether x is a `bool` or not\n",
    "\n",
    "- Expected inputs：an unknown type `x`\n",
    "- Expected outputs：a bool"
   ]
  },
  {
   "cell_type": "code",
   "execution_count": 241,
   "metadata": {},
   "outputs": [],
   "source": [
    "def is_a_bool(x):\n",
    "    \"\"\"\n",
    "    >>> is_a_bool('False')\n",
    "    False\n",
    "    >>> is_a_bool('True')\n",
    "    False\n",
    "    >>> is_a_bool(0)\n",
    "    False\n",
    "    >>> is_a_bool(1)\n",
    "    False\n",
    "    >>> is_a_bool(True)\n",
    "    True\n",
    "    >>> is_a_bool(False)\n",
    "    True\n",
    "    \"\"\"\n",
    "    ### BEGIN SOLUTION\n",
    "\n",
    "\n",
    "    if type(x) == bool :\n",
    "        return True\n",
    "    \n",
    "    else:\n",
    "        return False \n",
    "    \n",
    "    ### END SOLUTION"
   ]
  },
  {
   "cell_type": "markdown",
   "metadata": {},
   "source": [
    "## Define a function named `contains_vowels(x)` which returns whether x contains one of the vowels (a, e, i, o, u) or not\n",
    "\n",
    "- Expected inputs：a string `x`\n",
    "- Expected outputs：a bool"
   ]
  },
  {
   "cell_type": "code",
   "execution_count": 242,
   "metadata": {},
   "outputs": [],
   "source": [
    "def contains_vowels(x):\n",
    "    \"\"\"\n",
    "    >>> contains_vowels('pythn')\n",
    "    False\n",
    "    >>> contains_vowels('ncnd')\n",
    "    False\n",
    "    >>> contains_vowels('rtclt')\n",
    "    False\n",
    "    >>> contains_vowels('python')\n",
    "    True\n",
    "    >>> contains_vowels('anaconda')\n",
    "    True\n",
    "    >>> contains_vowels('reticulate')\n",
    "    True\n",
    "    \"\"\"\n",
    "    ### BEGIN SOLUTION    \n",
    "    \n",
    "    a = ['a', 'e', 'i', 'o', 'u']\n",
    "    b = 0\n",
    "    \n",
    "    for i in a:\n",
    "        if i in x:\n",
    "            b = b+1\n",
    "    \n",
    "    \n",
    "    if b == 0:\n",
    "        return False\n",
    "\n",
    "    else:\n",
    "        return True\n",
    "    \n",
    "\n",
    "    ### END SOLUTION"
   ]
  },
  {
   "cell_type": "markdown",
   "metadata": {},
   "source": [
    "## Define a function named `contains_all_the_vowels(x)` which returns whether x contains all the vowels (a, e, i, o, u) or not\n",
    "\n",
    "- Expected inputs：a string `x`\n",
    "- Expected outputs：a bool"
   ]
  },
  {
   "cell_type": "code",
   "execution_count": 243,
   "metadata": {},
   "outputs": [],
   "source": [
    "def contains_all_the_vowels(x):\n",
    "    \"\"\"\n",
    "    >>> contains_all_the_vowels('python')\n",
    "    False\n",
    "    >>> contains_all_the_vowels('anaconda')\n",
    "    False\n",
    "    >>> contains_all_the_vowels('reticulate')\n",
    "    False\n",
    "    >>> contains_all_the_vowels('python anaconda')\n",
    "    False\n",
    "    >>> contains_all_the_vowels('anaconda reticulate')\n",
    "    True\n",
    "    \"\"\"\n",
    "    ### BEGIN SOLUTION\n",
    "    \n",
    "    if 'a' in x and 'e' in x and 'i' in x and 'o' in x and 'u' in x:\n",
    "        return True\n",
    "\n",
    "    else:\n",
    "        return False\n",
    "    \n",
    "    ### END SOLUTION"
   ]
  },
  {
   "cell_type": "markdown",
   "metadata": {
    "deletable": false,
    "editable": false
   },
   "source": [
    "## Run tests!\n",
    "\n",
    "Kernel -> Restart & Run All."
   ]
  },
  {
   "cell_type": "code",
   "execution_count": 244,
   "metadata": {
    "deletable": false,
    "editable": false
   },
   "outputs": [
    {
     "name": "stderr",
     "output_type": "stream",
     "text": [
      "test_calculate_bmi (__main__.TestHomeworkOne) ... ok\n",
      "test_calculate_movie_minutes (__main__.TestHomeworkOne) ... ok\n",
      "test_contains_all_the_vowels (__main__.TestHomeworkOne) ... ok\n",
      "test_contains_vowels (__main__.TestHomeworkOne) ... ok\n",
      "test_fahrenheit_to_celsius (__main__.TestHomeworkOne) ... ok\n",
      "test_is_a_bool (__main__.TestHomeworkOne) ... ok\n",
      "test_is_a_factor (__main__.TestHomeworkOne) ... ok\n",
      "test_is_a_none (__main__.TestHomeworkOne) ... ok\n",
      "test_is_odd (__main__.TestHomeworkOne) ... ok\n",
      "test_is_positive (__main__.TestHomeworkOne) ... ok\n",
      "\n",
      "----------------------------------------------------------------------\n",
      "Ran 10 tests in 0.015s\n",
      "\n",
      "OK\n"
     ]
    }
   ],
   "source": [
    "import unittest\n",
    "\n",
    "class TestHomeworkOne(unittest.TestCase):\n",
    "    def test_calculate_movie_minutes(self):\n",
    "        self.assertEqual(calculate_movie_minutes(3, 1), 181)\n",
    "        self.assertEqual(calculate_movie_minutes(2, 29), 149)\n",
    "        self.assertEqual(calculate_movie_minutes(2, 21), 141)\n",
    "        self.assertEqual(calculate_movie_minutes(2, 23), 143)\n",
    "    def test_fahrenheit_to_celsius(self):\n",
    "        self.assertAlmostEqual(fahrenheit_to_celsius(212), 100.0)\n",
    "        self.assertAlmostEqual(fahrenheit_to_celsius(32), 0.0)\n",
    "    def test_calculate_bmi(self):\n",
    "        self.assertAlmostEqual(calculate_bmi(216, 147), 31.507201646090532)\n",
    "        self.assertAlmostEqual(calculate_bmi(198, 129), 32.90480563207836)\n",
    "        self.assertAlmostEqual(calculate_bmi(206, 113), 26.628334433028563)\n",
    "        self.assertAlmostEqual(calculate_bmi(211, 110), 24.70744143213315)\n",
    "        self.assertAlmostEqual(calculate_bmi(231, 91), 17.05365341728978)\n",
    "    def test_is_positive(self):\n",
    "        self.assertTrue(is_positive(5566))\n",
    "        self.assertFalse(is_positive(-5566))\n",
    "        self.assertTrue(is_positive(0))\n",
    "    def test_is_odd(self):\n",
    "        self.assertFalse(is_odd(0))\n",
    "        self.assertTrue(is_odd(1))\n",
    "        self.assertFalse(is_odd(2))\n",
    "        self.assertTrue(is_odd(3))\n",
    "    def test_is_a_factor(self):\n",
    "        self.assertTrue(is_a_factor(1, 2))\n",
    "        self.assertTrue(is_a_factor(2, 2))\n",
    "        self.assertTrue(is_a_factor(1, 3))\n",
    "        self.assertFalse(is_a_factor(2, 3))\n",
    "        self.assertTrue(is_a_factor(1, 4))\n",
    "        self.assertTrue(is_a_factor(2, 4))\n",
    "        self.assertFalse(is_a_factor(3, 4))\n",
    "        self.assertTrue(is_a_factor(4, 4))\n",
    "    def test_is_a_none(self):\n",
    "        self.assertFalse(is_a_none('None'))\n",
    "        self.assertFalse(is_a_none(''))\n",
    "        self.assertFalse(is_a_none(0))\n",
    "        self.assertFalse(is_a_none(False))\n",
    "        self.assertTrue(is_a_none(None))\n",
    "    def test_is_a_bool(self):\n",
    "        self.assertFalse(is_a_bool('False'))\n",
    "        self.assertFalse(is_a_bool('True'))\n",
    "        self.assertFalse(is_a_bool(0))\n",
    "        self.assertFalse(is_a_bool(1))\n",
    "        self.assertTrue(is_a_bool(True))\n",
    "        self.assertTrue(is_a_bool(False))\n",
    "    def test_contains_vowels(self):\n",
    "        self.assertFalse(contains_vowels('pythn'))\n",
    "        self.assertFalse(contains_vowels('ncnd'))\n",
    "        self.assertFalse(contains_vowels('rtclt'))\n",
    "        self.assertTrue(contains_vowels('python'))\n",
    "        self.assertTrue(contains_vowels('anaconda'))\n",
    "        self.assertTrue(contains_vowels('reticulate'))\n",
    "    def test_contains_all_the_vowels(self):\n",
    "        self.assertFalse(contains_all_the_vowels('python'))\n",
    "        self.assertFalse(contains_all_the_vowels('anaconda'))\n",
    "        self.assertFalse(contains_all_the_vowels('reticulate'))\n",
    "        self.assertFalse(contains_all_the_vowels('python anaconda'))\n",
    "        self.assertTrue(contains_all_the_vowels('anaconda reticulate'))\n",
    "\n",
    "suite = unittest.TestLoader().loadTestsFromTestCase(TestHomeworkOne)\n",
    "runner = unittest.TextTestRunner(verbosity=2)\n",
    "test_results = runner.run(suite)\n",
    "number_of_failures = len(test_results.failures)\n",
    "number_of_errors = len(test_results.errors)\n",
    "number_of_test_runs = test_results.testsRun\n",
    "number_of_successes = number_of_test_runs - (number_of_failures + number_of_errors)"
   ]
  },
  {
   "cell_type": "code",
   "execution_count": 245,
   "metadata": {
    "deletable": false,
    "editable": false
   },
   "outputs": [
    {
     "name": "stdout",
     "output_type": "stream",
     "text": [
      "You've got 10 successes among 10 questions.\n"
     ]
    }
   ],
   "source": [
    "print(\"You've got {} successes among {} questions.\".format(number_of_successes, number_of_test_runs))"
   ]
  },
  {
   "cell_type": "code",
   "execution_count": null,
   "metadata": {},
   "outputs": [],
   "source": []
  }
 ],
 "metadata": {
  "kernelspec": {
   "display_name": "Python 3",
   "language": "python",
   "name": "python3"
  },
  "language_info": {
   "codemirror_mode": {
    "name": "ipython",
    "version": 3
   },
   "file_extension": ".py",
   "mimetype": "text/x-python",
   "name": "python",
   "nbconvert_exporter": "python",
   "pygments_lexer": "ipython3",
   "version": "3.8.6"
  }
 },
 "nbformat": 4,
 "nbformat_minor": 4
}
